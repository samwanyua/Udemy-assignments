{
 "cells": [
  {
   "cell_type": "markdown",
   "metadata": {},
   "source": [
    "# Module 2: Control Flow Assignments\n",
    "## Lesson 2.1: Conditional Statements\n",
    "### Assignment 1: Simple if Statement\n",
    "\n",
    "Write a program that asks the user to input a number and prints whether the number is positive.\n",
    "\n",
    "### Assignment 2: if-else Statement\n",
    "\n",
    "Write a program that asks the user to input a number and prints whether the number is positive or negative.\n",
    "\n",
    "### Assignment 3: if-elif-else Statement\n",
    "\n",
    "Write a program that asks the user to input a number and prints whether the number is positive, negative, or zero.\n",
    "\n",
    "### Assignment 4: Nested if Statement\n",
    "\n",
    "Write a program that asks the user to input a number and prints whether the number is positive and even, positive and odd, or negative.\n",
    "\n",
    "## Lesson 2.2: Loops\n",
    "### Assignment 5: for Loop\n",
    "\n",
    "Write a program that prints all the numbers from 1 to 10 using a for loop.\n",
    "\n",
    "### Assignment 6: while Loop\n",
    "\n",
    "Write a program that prints all the numbers from 1 to 10 using a while loop.\n",
    "\n",
    "### Assignment 7: Nested Loops\n",
    "\n",
    "Write a program that prints a 5x5 grid of asterisks (*) using nested loops.\n",
    "\n",
    "### Assignment 8: break Statement\n",
    "\n",
    "Write a program that asks the user to input numbers until they input 0. The program should print the sum of all the input numbers.\n",
    "\n",
    "### Assignment 9: continue Statement\n",
    "\n",
    "Write a program that prints all the numbers from 1 to 10 except 5 using a for loop and continue statement.\n",
    "\n",
    "### Assignment 10: pass Statement\n",
    "\n",
    "Write a program that defines an empty function using the pass statement.\n",
    "\n",
    "### Assignment 11: Combining Loops and Conditionals\n",
    "\n",
    "Write a program that asks the user to input a number and prints all the even numbers from 1 to that number using a for loop.\n",
    "\n",
    "### Assignment 12: Factorial Calculation\n",
    "\n",
    "Write a program that calculates the factorial of a number input by the user using a while loop.\n",
    "\n",
    "### Assignment 13: Sum of Digits\n",
    "\n",
    "Write a program that calculates the sum of the digits of a number input by the user using a while loop.\n",
    "\n",
    "### Assignment 14: Prime Number Check\n",
    "\n",
    "Write a program that checks if a number input by the user is a prime number using a for loop.\n",
    "\n",
    "### Assignment 15: Fibonacci Sequence\n",
    "\n",
    "Write a program that prints the first n Fibonacci numbers, where n is input by the user."
   ]
  },
  {
   "cell_type": "code",
   "execution_count": 2,
   "metadata": {},
   "outputs": [
    {
     "data": {
      "text/plain": [
       "True"
      ]
     },
     "execution_count": 2,
     "metadata": {},
     "output_type": "execute_result"
    }
   ],
   "source": [
    "# Assignment 1\n",
    "def check_positive(x):\n",
    "    return x > 0\n",
    "check_positive(3)"
   ]
  },
  {
   "cell_type": "code",
   "execution_count": 6,
   "id": "5943eb9b",
   "metadata": {},
   "outputs": [
    {
     "name": "stdout",
     "output_type": "stream",
     "text": [
      "12 is positive\n",
      "-23 is negative\n"
     ]
    }
   ],
   "source": [
    "# Assignment 2\n",
    "def check_num(x):\n",
    "    if (x > 0):\n",
    "        print(f\"{x} is positive\")\n",
    "    else:\n",
    "        print(f\"{x} is negative\")\n",
    "\n",
    "check_num(12)\n",
    "check_num(-23)"
   ]
  },
  {
   "cell_type": "code",
   "execution_count": null,
   "id": "cf9b740b",
   "metadata": {},
   "outputs": [
    {
     "name": "stdout",
     "output_type": "stream",
     "text": [
      "0 is zero\n",
      "2 is positive\n",
      "-23 is negative\n"
     ]
    }
   ],
   "source": [
    "# Assignment 3\n",
    "def check_number(x):\n",
    "    if(x == 0):\n",
    "        print(f\"{x} is zero\")\n",
    "    elif(x < 0):\n",
    "        print(f\"{x} is negative\")\n",
    "    else: \n",
    "        print(f\"{x} is positive\")\n",
    "\n",
    "check_number(0)\n",
    "check_number(2)\n",
    "check_number(-23)"
   ]
  },
  {
   "cell_type": "code",
   "execution_count": null,
   "id": "6463a75b",
   "metadata": {},
   "outputs": [
    {
     "name": "stdout",
     "output_type": "stream",
     "text": [
      "3 is positive and odd\n",
      "34 is positive and even\n",
      "-23 is negative\n"
     ]
    }
   ],
   "source": [
    "# Assignment 4\n",
    "def nest_if(x):\n",
    "    if(x > 0):\n",
    "        if(x % 2 == 0):\n",
    "            print(f\"{x} is positive and even\")\n",
    "        else:\n",
    "            print(f\"{x} is positive and odd\")\n",
    "\n",
    "    else:\n",
    "        print(f\"{x} is negative\")\n",
    "\n",
    "nest_if(3)\n",
    "nest_if(34)\n",
    "nest_if(-23)"
   ]
  },
  {
   "cell_type": "code",
   "execution_count": null,
   "id": "776b34e8",
   "metadata": {},
   "outputs": [
    {
     "name": "stdout",
     "output_type": "stream",
     "text": [
      "1\n",
      "2\n",
      "3\n",
      "4\n",
      "5\n",
      "6\n",
      "7\n",
      "8\n",
      "9\n",
      "10\n"
     ]
    }
   ],
   "source": [
    "# Assignment 5\n",
    "for i in range(1,11):\n",
    "    print(i)"
   ]
  },
  {
   "cell_type": "code",
   "execution_count": null,
   "id": "921f4457",
   "metadata": {},
   "outputs": [
    {
     "name": "stdout",
     "output_type": "stream",
     "text": [
      "1\n",
      "2\n",
      "3\n",
      "4\n",
      "5\n",
      "6\n",
      "7\n",
      "8\n",
      "9\n",
      "10\n"
     ]
    }
   ],
   "source": [
    "# Assignment 6\n",
    "i = 1\n",
    "while i <= 10:\n",
    "    print(i)\n",
    "    i += 1"
   ]
  },
  {
   "cell_type": "code",
   "execution_count": 8,
   "id": "81928787",
   "metadata": {},
   "outputs": [
    {
     "name": "stdout",
     "output_type": "stream",
     "text": [
      "*****\n",
      "*****\n",
      "*****\n",
      "*****\n",
      "*****\n"
     ]
    }
   ],
   "source": [
    "# Assignment 7\n",
    "def asterisk():\n",
    "    for i in range(5): \n",
    "        for j in range(5): \n",
    "            print(\"*\", end=\"\") \n",
    "        print(\"\") \n",
    "\n",
    "asterisk()\n"
   ]
  },
  {
   "cell_type": "code",
   "execution_count": 13,
   "id": "5ec4f33e",
   "metadata": {},
   "outputs": [
    {
     "name": "stdout",
     "output_type": "stream",
     "text": [
      "The total is 13\n"
     ]
    }
   ],
   "source": [
    "# Assignment 8\n",
    "def assignment_8():\n",
    "    total = 0\n",
    "    while True:\n",
    "        x= int(input(\"Enter a number (0 to stop)\"))\n",
    "        if x == 0:\n",
    "            break\n",
    "        else:\n",
    "            total += x\n",
    "    print(f\"The total is {total}\")\n",
    "\n",
    "assignment_8()\n",
    "\n"
   ]
  },
  {
   "cell_type": "code",
   "execution_count": 16,
   "id": "44370ce1",
   "metadata": {},
   "outputs": [
    {
     "name": "stdout",
     "output_type": "stream",
     "text": [
      "1\n",
      "2\n",
      "3\n",
      "4\n",
      "6\n",
      "7\n",
      "8\n",
      "9\n",
      "10\n"
     ]
    }
   ],
   "source": [
    "# Assignment 9\n",
    "for i in range(1,11):\n",
    "    if i == 5:\n",
    "        continue\n",
    "    else:\n",
    "        print(i)"
   ]
  },
  {
   "cell_type": "code",
   "execution_count": 17,
   "id": "0fff2005",
   "metadata": {},
   "outputs": [],
   "source": [
    "# Assignment 10\n",
    "def func():\n",
    "    pass\n",
    "func()"
   ]
  },
  {
   "cell_type": "code",
   "execution_count": 18,
   "id": "bcf33c58",
   "metadata": {},
   "outputs": [
    {
     "name": "stdout",
     "output_type": "stream",
     "text": [
      "2\n",
      "4\n",
      "6\n",
      "8\n",
      "10\n",
      "12\n",
      "14\n",
      "16\n",
      "18\n",
      "20\n",
      "22\n",
      "24\n"
     ]
    }
   ],
   "source": [
    "# Assignment 11\n",
    "x = int(input(\"Enter a number\"))\n",
    "for i in range(1, x + 1):\n",
    "    if i % 2 == 0:\n",
    "        print(i)"
   ]
  },
  {
   "cell_type": "code",
   "execution_count": 22,
   "id": "f2edd829",
   "metadata": {},
   "outputs": [
    {
     "name": "stdout",
     "output_type": "stream",
     "text": [
      "The factorial of 0 is 1\n"
     ]
    }
   ],
   "source": [
    "# Assignment 12\n",
    "x = int(input(\"Enter a number to calculate factorial\"))\n",
    "factorial = 1\n",
    "i = 1\n",
    "while i<= x:\n",
    "    factorial *= i\n",
    "    i += 1\n",
    "print(f\"The factorial of {x} is {factorial}\")\n"
   ]
  },
  {
   "cell_type": "code",
   "execution_count": 25,
   "id": "7fb06092",
   "metadata": {},
   "outputs": [
    {
     "name": "stdout",
     "output_type": "stream",
     "text": [
      "The sum of digits is 15\n"
     ]
    }
   ],
   "source": [
    "# Assignment 13\n",
    "x = int(input(\"Enter a number\"))\n",
    "sum = 0\n",
    "while x > 0:\n",
    "    digit = x % 10\n",
    "    sum +=digit\n",
    "    x //= 10\n",
    "print(f\"The sum of digits is {sum}\")"
   ]
  },
  {
   "cell_type": "code",
   "execution_count": 31,
   "id": "a7c187be",
   "metadata": {},
   "outputs": [
    {
     "name": "stdout",
     "output_type": "stream",
     "text": [
      "1 is not a prime number\n"
     ]
    }
   ],
   "source": [
    "# Assignment 14\n",
    "num = int(input(\"Enter a number to check if prime\"))\n",
    "is_prime = True\n",
    "if num <=1:\n",
    "    is_prime = False\n",
    "elif num <3:\n",
    "    is_prime = True\n",
    "else:\n",
    "    if num % 2 == 0 and num % 3 == 0:\n",
    "        is_prime= False\n",
    "    else: \n",
    "        is_prime = True\n",
    "if is_prime:\n",
    "    print(f\"{num} is a prime number\")\n",
    "else:\n",
    "    print(f\"{num} is not a prime number\")\n",
    "\n",
    "\n"
   ]
  },
  {
   "cell_type": "code",
   "execution_count": 36,
   "id": "98e530a6",
   "metadata": {},
   "outputs": [
    {
     "name": "stdout",
     "output_type": "stream",
     "text": [
      "The first 13 terms of the Fibonacci sequence are: [0, 1, 1, 2, 3, 5, 8, 13, 21, 34, 55, 89, 144]\n"
     ]
    }
   ],
   "source": [
    "# Assignment 15\n",
    "num = int(input(\"Enter a number\"))\n",
    "def fibonacci(num):\n",
    "    if num == 0:\n",
    "        return []\n",
    "    fib_seq = [0,1]\n",
    "    while len(fib_seq) < num:\n",
    "        fib_seq.append(fib_seq[-1] + fib_seq[-2] )\n",
    "    return fib_seq\n",
    "\n",
    "print(f\"The first {num} terms of the Fibonacci sequence are: {fibonacci(num)}\")\n",
    "\n"
   ]
  },
  {
   "cell_type": "code",
   "execution_count": null,
   "id": "8feba9a1",
   "metadata": {},
   "outputs": [],
   "source": []
  }
 ],
 "metadata": {
  "kernelspec": {
   "display_name": "Python 3",
   "language": "python",
   "name": "python3"
  },
  "language_info": {
   "codemirror_mode": {
    "name": "ipython",
    "version": 3
   },
   "file_extension": ".py",
   "mimetype": "text/x-python",
   "name": "python",
   "nbconvert_exporter": "python",
   "pygments_lexer": "ipython3",
   "version": "3.13.0"
  }
 },
 "nbformat": 4,
 "nbformat_minor": 5
}
