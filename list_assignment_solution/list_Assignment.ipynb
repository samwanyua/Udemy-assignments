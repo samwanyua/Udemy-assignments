{
 "cells": [
  {
   "cell_type": "markdown",
   "metadata": {},
   "source": [
    "# Module 3: Data Structures Assignments\n",
    "## Lesson 3.1: Lists\n",
    "### Assignment 1: Creating and Accessing Lists\n",
    "\n",
    "Create a list of the first 20 positive integers. Print the list.\n",
    "\n",
    "### Assignment 2: Accessing List Elements\n",
    "\n",
    "Print the first, middle, and last elements of the list created in Assignment 1.\n",
    "\n",
    "### Assignment 3: List Slicing\n",
    "\n",
    "Print the first five elements, the last five elements, and the elements from index 5 to 15 of the list created in Assignment 1.\n",
    "\n",
    "### Assignment 4: List Comprehensions\n",
    "\n",
    "Create a new list containing the squares of the first 10 positive integers using a list comprehension. Print the new list.\n",
    "\n",
    "### Assignment 5: Filtering Lists\n",
    "\n",
    "Create a new list containing only the even numbers from the list created in Assignment 1 using a list comprehension. Print the new list.\n",
    "\n",
    "### Assignment 6: List Methods\n",
    "\n",
    "Create a list of random numbers and sort it in ascending and descending order. Remove the duplicates from the list and print the modified list.\n",
    "\n",
    "### Assignment 7: Nested Lists\n",
    "\n",
    "Create a nested list representing a 3x3 matrix and print the matrix. Access and print the element at the second row and third column.\n",
    "\n",
    "### Assignment 8: List of Dictionaries\n",
    "\n",
    "Create a list of dictionaries where each dictionary represents a student with keys 'name' and 'score'. Sort the list of dictionaries by the 'score' in descending order and print the sorted list.\n",
    "\n",
    "### Assignment 9: Matrix Transposition\n",
    "\n",
    "Write a function that takes a 3x3 matrix (nested list) as input and returns its transpose. Print the original and transposed matrices.\n",
    "\n",
    "### Assignment 10: Flattening a Nested List\n",
    "\n",
    "Write a function that takes a nested list and flattens it into a single list. Print the original and flattened lists.\n",
    "\n",
    "### Assignment 11: List Manipulation\n",
    "\n",
    "Create a list of the first 10 positive integers. Remove the elements at indices 2, 4, and 6, and insert the element '99' at index 5. Print the modified list.\n",
    "\n",
    "### Assignment 12: List Zipping\n",
    "\n",
    "Create two lists of the same length. Use the `zip` function to combine these lists into a list of tuples and print the result.\n",
    "\n",
    "### Assignment 13: List Reversal\n",
    "\n",
    "Write a function that takes a list and returns a new list with the elements in reverse order. Print the original and reversed lists.\n",
    "\n",
    "### Assignment 14: List Rotation\n",
    "\n",
    "Write a function that rotates a list by n positions. Print the original and rotated lists.\n",
    "\n",
    "### Assignment 15: List Intersection\n",
    "\n",
    "Write a function that takes two lists and returns a new list containing only the elements that are present in both lists. Print the intersected list."
   ]
  },
  {
   "cell_type": "code",
   "execution_count": 3,
   "metadata": {},
   "outputs": [
    {
     "name": "stdout",
     "output_type": "stream",
     "text": [
      "[1, 2, 3, 4, 5, 6, 7, 8, 9, 10, 11, 12, 13, 14, 15, 16, 17, 18, 19, 20]\n"
     ]
    }
   ],
   "source": [
    "# Assignment 1\n",
    "first_20 = []\n",
    "for i in range (1,21):\n",
    "    first_20.append(i)\n",
    "print(first_20)"
   ]
  },
  {
   "cell_type": "code",
   "execution_count": 4,
   "id": "9a95c748",
   "metadata": {},
   "outputs": [
    {
     "name": "stdout",
     "output_type": "stream",
     "text": [
      "[2, 3, 4]\n",
      "[3, 4, 5, 6, 7, 8, 9]\n",
      "[0, 1, 2, 3]\n",
      "[1, 3, 5, 7]\n"
     ]
    }
   ],
   "source": [
    "# List slicing examples\n",
    "my_list = [0, 1, 2, 3, 4, 5, 6, 7, 8, 9]\n",
    "\n",
    "# Slice from index 2 to index 5 (not including 5)\n",
    "print(my_list[2:5])  # Output: [2, 3, 4]\n",
    "\n",
    "# Slice from index 3 to the end\n",
    "print(my_list[3:])  # Output: [3, 4, 5, 6, 7, 8, 9]\n",
    "\n",
    "# Slice from the start to index 4 (not including 4)\n",
    "print(my_list[:4])  # Output: [0, 1, 2, 3]\n",
    "\n",
    "# Slice with a step of 2\n",
    "print(my_list[1:8:2])  # Output: [1, 3, 5, 7]\n"
   ]
  },
  {
   "cell_type": "code",
   "execution_count": 5,
   "id": "6d3b07a2",
   "metadata": {},
   "outputs": [
    {
     "name": "stdout",
     "output_type": "stream",
     "text": [
      "[9, 8, 7, 6, 5, 4, 3, 2, 1, 0]\n",
      "olleH\n"
     ]
    }
   ],
   "source": [
    "# Reversing a list\n",
    "print(my_list[::-1])  # Output: [9, 8, 7, 6, 5, 4, 3, 2, 1, 0]\n",
    "\n",
    "# Reversing a string\n",
    "my_string = \"Hello\"\n",
    "print(my_string[::-1])  # Output: \"olleH\"\n"
   ]
  },
  {
   "cell_type": "code",
   "execution_count": 7,
   "id": "0801a3c4",
   "metadata": {},
   "outputs": [
    {
     "name": "stdout",
     "output_type": "stream",
     "text": [
      "1\n",
      "Length of my list 20\n",
      "The middle element is : 11\n",
      "<class 'list'>\n",
      "The last item 20\n"
     ]
    }
   ],
   "source": [
    "# Assignment 2\n",
    "# first element\n",
    "print(first_20[0])\n",
    "\n",
    "print(f\"Length of my list {len(first_20)}\")\n",
    "print(f\"The middle element is : {first_20[len(first_20) // 2]}\")\n",
    "\n",
    "print(type(first_20))\n",
    "\n",
    "# last\n",
    "print(f\"The last item {first_20[-1]}\")\n"
   ]
  },
  {
   "cell_type": "code",
   "execution_count": 12,
   "id": "8b52471c",
   "metadata": {},
   "outputs": [
    {
     "name": "stdout",
     "output_type": "stream",
     "text": [
      "[1, 2, 3, 4, 5]\n",
      "[16, 17, 18, 19, 20]\n",
      "[6, 7, 8, 9, 10, 11, 12, 13, 14, 15, 16]\n"
     ]
    }
   ],
   "source": [
    "# Assignment 3\n",
    "len(first_20)\n",
    "print(first_20[:5])\n",
    "print(first_20[-5:])\n",
    "print(first_20[5:16])"
   ]
  },
  {
   "cell_type": "code",
   "execution_count": 16,
   "id": "02a1d897",
   "metadata": {},
   "outputs": [
    {
     "data": {
      "text/plain": [
       "[1, 4, 9, 16, 25, 36, 49, 64, 81, 100]"
      ]
     },
     "execution_count": 16,
     "metadata": {},
     "output_type": "execute_result"
    }
   ],
   "source": [
    "# Assignment 4\n",
    "squares = [x**2 for x in range(1, 11)]\n",
    "squares"
   ]
  },
  {
   "cell_type": "code",
   "execution_count": 18,
   "id": "4fba7323",
   "metadata": {},
   "outputs": [
    {
     "data": {
      "text/plain": [
       "[2, 4, 6, 8, 10, 12, 14, 16, 18, 20]"
      ]
     },
     "execution_count": 18,
     "metadata": {},
     "output_type": "execute_result"
    }
   ],
   "source": [
    "# Assignment 5\n",
    "# new_list = list(filter(lambda x : x % 2 == 0, first_20)) # alternatively\n",
    "even = [x for x in first_20 if x % 2 == 0]\n",
    "even"
   ]
  },
  {
   "cell_type": "code",
   "execution_count": 28,
   "id": "01a67cb2",
   "metadata": {},
   "outputs": [
    {
     "name": "stdout",
     "output_type": "stream",
     "text": [
      "[54, 84, 35, 78, 89, 39, 6, 69, 74, 56, 86, 85, 14, 70, 13, 14, 41, 54, 80, 67]\n",
      "Sorted random numbers in descending order [89, 86, 85, 84, 80, 78, 74, 70, 69, 67, 56, 54, 54, 41, 39, 35, 14, 14, 13, 6]\n",
      "Sorted in ascending order [6, 13, 14, 14, 35, 39, 41, 54, 54, 56, 67, 69, 70, 74, 78, 80, 84, 85, 86, 89]\n",
      "Print list without duplicates [35, 67, 69, 6, 39, 70, 41, 74, 13, 14, 78, 80, 84, 85, 54, 86, 56, 89]\n"
     ]
    }
   ],
   "source": [
    "# Assignment 6\n",
    "import random\n",
    "random_nums = [random.randint(1,100) for _ in range(20)]\n",
    "print(random_nums)\n",
    "random_nums.sort(reverse=True)\n",
    "print(f\"Sorted random numbers in descending order {random_nums}\")\n",
    "random_nums.sort(reverse=False)\n",
    "print(f\"Sorted in ascending order {random_nums}\")\n",
    "# remove duplicates\n",
    "unique_list = list(set(random_nums))\n",
    "print(f\"Print list without duplicates {unique_list}\")"
   ]
  },
  {
   "cell_type": "code",
   "execution_count": 37,
   "id": "b2164a28",
   "metadata": {},
   "outputs": [
    {
     "name": "stdout",
     "output_type": "stream",
     "text": [
      "[1, 2, 3, 4, 5, 6]\n",
      "[7, 8, 9, 10, 11, 12]\n",
      "[13, 14, 15, 16, 17, 18]\n",
      "[19, 20, 21, 22, 23, 24]\n",
      "[25, 26, 27, 28, 29, 30]\n",
      "[31, 32, 33, 34, 35, 36]\n",
      "9\n"
     ]
    }
   ],
   "source": [
    "# Assignment 7\n",
    "matrix = [[(i * 6) + j + 1 for j in range(6)] for i in range(6)]\n",
    "for row in matrix:\n",
    "    print(row)\n",
    "\n",
    "print(matrix[1][2])"
   ]
  },
  {
   "cell_type": "code",
   "execution_count": 44,
   "id": "3bc82200",
   "metadata": {},
   "outputs": [
    {
     "name": "stdout",
     "output_type": "stream",
     "text": [
      "This is sorted score  [{'name': 'John', 'score': 78}, {'name': 'Gabriel', 'score': 65}, {'name': 'Max', 'score': 56}, {'name': 'Doe', 'score': 45}, {'name': 'Zoe', 'score': 25}]\n",
      "This is sorted names [{'name': 'Doe', 'score': 45}, {'name': 'Gabriel', 'score': 65}, {'name': 'John', 'score': 78}, {'name': 'Max', 'score': 56}, {'name': 'Zoe', 'score': 25}]\n"
     ]
    }
   ],
   "source": [
    "# Assignment 8\n",
    "student =[\n",
    "    {\"name\": \"John\", \"score\": 78},\n",
    "    {\"name\":\"Doe\",\"score\": 45},\n",
    "    {\"name\":\"Max\", \"score\":56},\n",
    "    {\"name\":\"Zoe\",\"score\": 25},\n",
    "    {\"name\":\"Gabriel\", \"score\":65}\n",
    "]\n",
    "\n",
    "student.sort(key= lambda x: x[\"score\"], reverse=True)\n",
    "print(f\"This is sorted score  {student}\")\n",
    "student.sort(key= lambda y: y[\"name\"])\n",
    "print(f\"This is sorted names {student}\")"
   ]
  },
  {
   "cell_type": "code",
   "execution_count": null,
   "id": "3b371a22",
   "metadata": {},
   "outputs": [],
   "source": []
  }
 ],
 "metadata": {
  "kernelspec": {
   "display_name": "env",
   "language": "python",
   "name": "python3"
  },
  "language_info": {
   "codemirror_mode": {
    "name": "ipython",
    "version": 3
   },
   "file_extension": ".py",
   "mimetype": "text/x-python",
   "name": "python",
   "nbconvert_exporter": "python",
   "pygments_lexer": "ipython3",
   "version": "3.12.3"
  }
 },
 "nbformat": 4,
 "nbformat_minor": 5
}
